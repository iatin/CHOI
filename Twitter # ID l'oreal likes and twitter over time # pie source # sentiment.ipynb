{
 "cells": [
  {
   "cell_type": "code",
   "execution_count": 19,
   "metadata": {},
   "outputs": [],
   "source": [
    "#https://www.codementor.io/ferrorodolfo/sentiment-analysis-on-trump-s-tweets-using-python-pltbvb4xr\n",
    "# General:\n",
    "import tweepy           # To consume Twitter's API\n",
    "import pandas as pd     # To handle data\n",
    "import numpy as np      # For number computing\n",
    "\n",
    "# For plotting and visualization:\n",
    "from IPython.display import display\n",
    "import matplotlib.pyplot as plt\n",
    "import seaborn as sns\n",
    "%matplotlib inline"
   ]
  },
  {
   "cell_type": "code",
   "execution_count": 20,
   "metadata": {},
   "outputs": [],
   "source": [
    "# Twitter App access keys for @user\n",
    "\n",
    "# Consume:\n",
    "CONSUMER_KEY    = 'dKnNHGlG1iFA1sJBBwwFO5Udf'\n",
    "CONSUMER_SECRET = '0axA3cZfMOGqezQbBFu9aGBmBqPvo3SD2j3IjaeOUiFZihjm31'\n",
    "\n",
    "# Access:\n",
    "ACCESS_TOKEN  = '387635108-t2o8PyS5tIaplHYfuQNMEDzNiJ3WjkBHeS9v0aXH'\n",
    "ACCESS_SECRET = 'TZZEmCsvIKp5s0WYN9P9PXlF5a4lQXRKayLtAnBR9za2L'\n"
   ]
  },
  {
   "cell_type": "code",
   "execution_count": 21,
   "metadata": {},
   "outputs": [],
   "source": [
    "# We import our access keys:\n",
    "from credentials import *    # This will allow us to use the keys as variables\n",
    "\n",
    "# API's setup:\n",
    "def twitter_setup():\n",
    "    \"\"\"\n",
    "    Utility function to setup the Twitter's API\n",
    "    with our access keys provided.\n",
    "    \"\"\"\n",
    "    # Authentication and access using keys:\n",
    "    auth = tweepy.OAuthHandler(CONSUMER_KEY, CONSUMER_SECRET)\n",
    "    auth.set_access_token(ACCESS_TOKEN, ACCESS_SECRET)\n",
    "\n",
    "    # Return API with authentication:\n",
    "    api = tweepy.API(auth)\n",
    "    return api"
   ]
  },
  {
   "cell_type": "code",
   "execution_count": 22,
   "metadata": {},
   "outputs": [
    {
     "name": "stdout",
     "output_type": "stream",
     "text": [
      "Number of tweets extracted: 197.\n",
      "\n",
      "5 recent tweets:\n",
      "\n",
      "RT @LOrealUSA: #DidYouKnow that women account for half of the @Loreal Group's top positions worldwide? 🙌 Our commitment to gender equality…\n",
      "\n",
      "RT @LOrealUSA: After a life-long career with the largest beauty company in the world, it's safe to say that Jean-Paul Agon, @Loreal Chairma…\n",
      "\n",
      "Discover 🔎 the immersive tunnel of the #exhibition #DansMaPeau at @Musee_Homme and be fascinated by real multi-imag… https://t.co/A0jE6IJxuq\n",
      "\n",
      "RT @UNESCO: Congratulations to this year’s winners of the @Loreal - @UNESCO #ForWomenInScience awards and 15 International Rising Talents!…\n",
      "\n",
      "RT @AudreyPulvar: Bravo à @AlexandraPalt et à @Loreal pour cette très belle soirée des prix #WomenInscience, avec des lauréates toujours au…\n",
      "\n"
     ]
    }
   ],
   "source": [
    "# We create an extractor object:\n",
    "extractor = twitter_setup()\n",
    "\n",
    "# We create a tweet list as follows:\n",
    "tweets = extractor.user_timeline(screen_name=\"Loreal\", count=200)\n",
    "print(\"Number of tweets extracted: {}.\\n\".format(len(tweets)))\n",
    "\n",
    "# We print the most recent 5 tweets:\n",
    "print(\"5 recent tweets:\\n\")\n",
    "for tweet in tweets[:5]:\n",
    "    print(tweet.text)\n",
    "    print()"
   ]
  },
  {
   "cell_type": "code",
   "execution_count": 23,
   "metadata": {},
   "outputs": [
    {
     "data": {
      "text/html": [
       "<div>\n",
       "<style scoped>\n",
       "    .dataframe tbody tr th:only-of-type {\n",
       "        vertical-align: middle;\n",
       "    }\n",
       "\n",
       "    .dataframe tbody tr th {\n",
       "        vertical-align: top;\n",
       "    }\n",
       "\n",
       "    .dataframe thead th {\n",
       "        text-align: right;\n",
       "    }\n",
       "</style>\n",
       "<table border=\"1\" class=\"dataframe\">\n",
       "  <thead>\n",
       "    <tr style=\"text-align: right;\">\n",
       "      <th></th>\n",
       "      <th>Tweets</th>\n",
       "    </tr>\n",
       "  </thead>\n",
       "  <tbody>\n",
       "    <tr>\n",
       "      <th>0</th>\n",
       "      <td>RT @LOrealUSA: #DidYouKnow that women account ...</td>\n",
       "    </tr>\n",
       "    <tr>\n",
       "      <th>1</th>\n",
       "      <td>RT @LOrealUSA: After a life-long career with t...</td>\n",
       "    </tr>\n",
       "    <tr>\n",
       "      <th>2</th>\n",
       "      <td>Discover 🔎 the immersive tunnel of the #exhibi...</td>\n",
       "    </tr>\n",
       "    <tr>\n",
       "      <th>3</th>\n",
       "      <td>RT @UNESCO: Congratulations to this year’s win...</td>\n",
       "    </tr>\n",
       "    <tr>\n",
       "      <th>4</th>\n",
       "      <td>RT @AudreyPulvar: Bravo à @AlexandraPalt et à ...</td>\n",
       "    </tr>\n",
       "    <tr>\n",
       "      <th>5</th>\n",
       "      <td>Congratulations to @ilyapharma, the winner of ...</td>\n",
       "    </tr>\n",
       "    <tr>\n",
       "      <th>6</th>\n",
       "      <td>La quête de la #beauté est le moteur d'une cro...</td>\n",
       "    </tr>\n",
       "    <tr>\n",
       "      <th>7</th>\n",
       "      <td>The quest for #beauty drives a steady growth f...</td>\n",
       "    </tr>\n",
       "    <tr>\n",
       "      <th>8</th>\n",
       "      <td>Immergez-vous dans l'univers de la #BeautyTech...</td>\n",
       "    </tr>\n",
       "    <tr>\n",
       "      <th>9</th>\n",
       "      <td>Step onboard the new #BeautyTech world with ou...</td>\n",
       "    </tr>\n",
       "  </tbody>\n",
       "</table>\n",
       "</div>"
      ],
      "text/plain": [
       "                                              Tweets\n",
       "0  RT @LOrealUSA: #DidYouKnow that women account ...\n",
       "1  RT @LOrealUSA: After a life-long career with t...\n",
       "2  Discover 🔎 the immersive tunnel of the #exhibi...\n",
       "3  RT @UNESCO: Congratulations to this year’s win...\n",
       "4  RT @AudreyPulvar: Bravo à @AlexandraPalt et à ...\n",
       "5  Congratulations to @ilyapharma, the winner of ...\n",
       "6  La quête de la #beauté est le moteur d'une cro...\n",
       "7  The quest for #beauty drives a steady growth f...\n",
       "8  Immergez-vous dans l'univers de la #BeautyTech...\n",
       "9  Step onboard the new #BeautyTech world with ou..."
      ]
     },
     "metadata": {},
     "output_type": "display_data"
    }
   ],
   "source": [
    "# We create a pandas dataframe as follows:\n",
    "data = pd.DataFrame(data=[tweet.text for tweet in tweets], columns=['Tweets'])\n",
    "\n",
    "# We display the first 10 elements of the dataframe:\n",
    "display(data.head(10))"
   ]
  },
  {
   "cell_type": "code",
   "execution_count": 24,
   "metadata": {},
   "outputs": [
    {
     "name": "stdout",
     "output_type": "stream",
     "text": [
      "['__class__', '__delattr__', '__dict__', '__dir__', '__doc__', '__eq__', '__format__', '__ge__', '__getattribute__', '__getstate__', '__gt__', '__hash__', '__init__', '__init_subclass__', '__le__', '__lt__', '__module__', '__ne__', '__new__', '__reduce__', '__reduce_ex__', '__repr__', '__setattr__', '__sizeof__', '__str__', '__subclasshook__', '__weakref__', '_api', '_json', 'author', 'contributors', 'coordinates', 'created_at', 'destroy', 'entities', 'favorite', 'favorite_count', 'favorited', 'geo', 'id', 'id_str', 'in_reply_to_screen_name', 'in_reply_to_status_id', 'in_reply_to_status_id_str', 'in_reply_to_user_id', 'in_reply_to_user_id_str', 'is_quote_status', 'lang', 'parse', 'parse_list', 'place', 'retweet', 'retweet_count', 'retweeted', 'retweeted_status', 'retweets', 'source', 'source_url', 'text', 'truncated', 'user']\n"
     ]
    }
   ],
   "source": [
    "# Internal methods of a single tweet object:\n",
    "print(dir(tweets[0]))\n"
   ]
  },
  {
   "cell_type": "code",
   "execution_count": 25,
   "metadata": {},
   "outputs": [
    {
     "name": "stdout",
     "output_type": "stream",
     "text": [
      "1108263115051945985\n",
      "2019-03-20 07:04:51\n",
      "Sprinklr\n",
      "0\n",
      "5\n",
      "None\n",
      "None\n",
      "{'hashtags': [{'text': 'DidYouKnow', 'indices': [15, 26]}], 'symbols': [], 'user_mentions': [{'screen_name': 'LOrealUSA', 'name': \"L'Oréal USA\", 'id': 58602756, 'id_str': '58602756', 'indices': [3, 13]}, {'screen_name': 'Loreal', 'name': \"L'Oréal Group\", 'id': 37890617, 'id_str': '37890617', 'indices': [62, 69]}], 'urls': []}\n"
     ]
    }
   ],
   "source": [
    "# We print info from the first tweet:\n",
    "print(tweets[0].id)\n",
    "print(tweets[0].created_at)\n",
    "print(tweets[0].source)\n",
    "print(tweets[0].favorite_count)\n",
    "print(tweets[0].retweet_count)\n",
    "print(tweets[0].geo)\n",
    "print(tweets[0].coordinates)\n",
    "print(tweets[0].entities)"
   ]
  },
  {
   "cell_type": "code",
   "execution_count": 26,
   "metadata": {},
   "outputs": [],
   "source": [
    "# We add relevant data:\n",
    "data['len']  = np.array([len(tweet.text) for tweet in tweets])\n",
    "data['ID']   = np.array([tweet.id for tweet in tweets])\n",
    "data['Date'] = np.array([tweet.created_at for tweet in tweets])\n",
    "data['Source'] = np.array([tweet.source for tweet in tweets])\n",
    "data['Likes']  = np.array([tweet.favorite_count for tweet in tweets])\n",
    "data['RTs']    = np.array([tweet.retweet_count for tweet in tweets])"
   ]
  },
  {
   "cell_type": "code",
   "execution_count": 27,
   "metadata": {},
   "outputs": [
    {
     "data": {
      "text/html": [
       "<div>\n",
       "<style scoped>\n",
       "    .dataframe tbody tr th:only-of-type {\n",
       "        vertical-align: middle;\n",
       "    }\n",
       "\n",
       "    .dataframe tbody tr th {\n",
       "        vertical-align: top;\n",
       "    }\n",
       "\n",
       "    .dataframe thead th {\n",
       "        text-align: right;\n",
       "    }\n",
       "</style>\n",
       "<table border=\"1\" class=\"dataframe\">\n",
       "  <thead>\n",
       "    <tr style=\"text-align: right;\">\n",
       "      <th></th>\n",
       "      <th>Tweets</th>\n",
       "      <th>len</th>\n",
       "      <th>ID</th>\n",
       "      <th>Date</th>\n",
       "      <th>Source</th>\n",
       "      <th>Likes</th>\n",
       "      <th>RTs</th>\n",
       "    </tr>\n",
       "  </thead>\n",
       "  <tbody>\n",
       "    <tr>\n",
       "      <th>0</th>\n",
       "      <td>RT @LOrealUSA: #DidYouKnow that women account ...</td>\n",
       "      <td>139</td>\n",
       "      <td>1108263115051945985</td>\n",
       "      <td>2019-03-20 07:04:51</td>\n",
       "      <td>Sprinklr</td>\n",
       "      <td>0</td>\n",
       "      <td>5</td>\n",
       "    </tr>\n",
       "    <tr>\n",
       "      <th>1</th>\n",
       "      <td>RT @LOrealUSA: After a life-long career with t...</td>\n",
       "      <td>140</td>\n",
       "      <td>1108059715135852546</td>\n",
       "      <td>2019-03-19 17:36:37</td>\n",
       "      <td>Sprinklr</td>\n",
       "      <td>0</td>\n",
       "      <td>2</td>\n",
       "    </tr>\n",
       "    <tr>\n",
       "      <th>2</th>\n",
       "      <td>Discover 🔎 the immersive tunnel of the #exhibi...</td>\n",
       "      <td>140</td>\n",
       "      <td>1107973018108788736</td>\n",
       "      <td>2019-03-19 11:52:07</td>\n",
       "      <td>Sprinklr</td>\n",
       "      <td>16</td>\n",
       "      <td>6</td>\n",
       "    </tr>\n",
       "    <tr>\n",
       "      <th>3</th>\n",
       "      <td>RT @UNESCO: Congratulations to this year’s win...</td>\n",
       "      <td>139</td>\n",
       "      <td>1106902882295709697</td>\n",
       "      <td>2019-03-16 12:59:47</td>\n",
       "      <td>Sprinklr</td>\n",
       "      <td>0</td>\n",
       "      <td>56</td>\n",
       "    </tr>\n",
       "    <tr>\n",
       "      <th>4</th>\n",
       "      <td>RT @AudreyPulvar: Bravo à @AlexandraPalt et à ...</td>\n",
       "      <td>140</td>\n",
       "      <td>1106842539980713984</td>\n",
       "      <td>2019-03-16 09:00:00</td>\n",
       "      <td>Sprinklr</td>\n",
       "      <td>0</td>\n",
       "      <td>6</td>\n",
       "    </tr>\n",
       "    <tr>\n",
       "      <th>5</th>\n",
       "      <td>Congratulations to @ilyapharma, the winner of ...</td>\n",
       "      <td>139</td>\n",
       "      <td>1106617566708097024</td>\n",
       "      <td>2019-03-15 18:06:02</td>\n",
       "      <td>Twitter for iPhone</td>\n",
       "      <td>21</td>\n",
       "      <td>7</td>\n",
       "    </tr>\n",
       "    <tr>\n",
       "      <th>6</th>\n",
       "      <td>La quête de la #beauté est le moteur d'une cro...</td>\n",
       "      <td>140</td>\n",
       "      <td>1106590549098811392</td>\n",
       "      <td>2019-03-15 16:18:41</td>\n",
       "      <td>Sprinklr</td>\n",
       "      <td>3</td>\n",
       "      <td>1</td>\n",
       "    </tr>\n",
       "    <tr>\n",
       "      <th>7</th>\n",
       "      <td>The quest for #beauty drives a steady growth f...</td>\n",
       "      <td>140</td>\n",
       "      <td>1106590307070763009</td>\n",
       "      <td>2019-03-15 16:17:43</td>\n",
       "      <td>Sprinklr</td>\n",
       "      <td>1</td>\n",
       "      <td>1</td>\n",
       "    </tr>\n",
       "    <tr>\n",
       "      <th>8</th>\n",
       "      <td>Immergez-vous dans l'univers de la #BeautyTech...</td>\n",
       "      <td>140</td>\n",
       "      <td>1106589802592378882</td>\n",
       "      <td>2019-03-15 16:15:43</td>\n",
       "      <td>Sprinklr</td>\n",
       "      <td>6</td>\n",
       "      <td>1</td>\n",
       "    </tr>\n",
       "    <tr>\n",
       "      <th>9</th>\n",
       "      <td>Step onboard the new #BeautyTech world with ou...</td>\n",
       "      <td>137</td>\n",
       "      <td>1106589529400586240</td>\n",
       "      <td>2019-03-15 16:14:37</td>\n",
       "      <td>Sprinklr</td>\n",
       "      <td>3</td>\n",
       "      <td>0</td>\n",
       "    </tr>\n",
       "  </tbody>\n",
       "</table>\n",
       "</div>"
      ],
      "text/plain": [
       "                                              Tweets  len  \\\n",
       "0  RT @LOrealUSA: #DidYouKnow that women account ...  139   \n",
       "1  RT @LOrealUSA: After a life-long career with t...  140   \n",
       "2  Discover 🔎 the immersive tunnel of the #exhibi...  140   \n",
       "3  RT @UNESCO: Congratulations to this year’s win...  139   \n",
       "4  RT @AudreyPulvar: Bravo à @AlexandraPalt et à ...  140   \n",
       "5  Congratulations to @ilyapharma, the winner of ...  139   \n",
       "6  La quête de la #beauté est le moteur d'une cro...  140   \n",
       "7  The quest for #beauty drives a steady growth f...  140   \n",
       "8  Immergez-vous dans l'univers de la #BeautyTech...  140   \n",
       "9  Step onboard the new #BeautyTech world with ou...  137   \n",
       "\n",
       "                    ID                Date              Source  Likes  RTs  \n",
       "0  1108263115051945985 2019-03-20 07:04:51            Sprinklr      0    5  \n",
       "1  1108059715135852546 2019-03-19 17:36:37            Sprinklr      0    2  \n",
       "2  1107973018108788736 2019-03-19 11:52:07            Sprinklr     16    6  \n",
       "3  1106902882295709697 2019-03-16 12:59:47            Sprinklr      0   56  \n",
       "4  1106842539980713984 2019-03-16 09:00:00            Sprinklr      0    6  \n",
       "5  1106617566708097024 2019-03-15 18:06:02  Twitter for iPhone     21    7  \n",
       "6  1106590549098811392 2019-03-15 16:18:41            Sprinklr      3    1  \n",
       "7  1106590307070763009 2019-03-15 16:17:43            Sprinklr      1    1  \n",
       "8  1106589802592378882 2019-03-15 16:15:43            Sprinklr      6    1  \n",
       "9  1106589529400586240 2019-03-15 16:14:37            Sprinklr      3    0  "
      ]
     },
     "metadata": {},
     "output_type": "display_data"
    }
   ],
   "source": [
    "# Display of first 10 elements from dataframe:\n",
    "display(data.head(10))"
   ]
  },
  {
   "cell_type": "code",
   "execution_count": 28,
   "metadata": {},
   "outputs": [
    {
     "name": "stdout",
     "output_type": "stream",
     "text": [
      "The lenght's average in tweets: 137.73096446700507\n"
     ]
    }
   ],
   "source": [
    "# We extract the mean of lenghts:\n",
    "mean = np.mean(data['len'])\n",
    "\n",
    "print(\"The lenght's average in tweets: {}\".format(mean))"
   ]
  },
  {
   "cell_type": "code",
   "execution_count": 29,
   "metadata": {},
   "outputs": [
    {
     "name": "stdout",
     "output_type": "stream",
     "text": [
      "The tweet with more likes is: \n",
      "Nous sommes heureux d'annoncer que dans le cadre de notre programme social mondial L'Oréal Share &amp; Care, L'Oréal pr… https://t.co/pC7Y6M9OCz\n",
      "Number of likes: 72\n",
      "144 characters.\n",
      "\n",
      "The tweet with more retweets is: \n",
      "RT @4womeninscience: 👩‍🔬 ‍On this International Day of Women and Girls in #Science, @LOreal and @UNESCO are proud to announce the names of…\n",
      "Number of retweets: 106\n",
      "139 characters.\n",
      "\n"
     ]
    }
   ],
   "source": [
    "# We extract the tweet with more FAVs and more RTs:\n",
    "\n",
    "fav_max = np.max(data['Likes'])\n",
    "rt_max  = np.max(data['RTs'])\n",
    "\n",
    "fav = data[data.Likes == fav_max].index[0]\n",
    "rt  = data[data.RTs == rt_max].index[0]\n",
    "\n",
    "# Max FAVs:\n",
    "print(\"The tweet with more likes is: \\n{}\".format(data['Tweets'][fav]))\n",
    "print(\"Number of likes: {}\".format(fav_max))\n",
    "print(\"{} characters.\\n\".format(data['len'][fav]))\n",
    "\n",
    "# Max RTs:\n",
    "print(\"The tweet with more retweets is: \\n{}\".format(data['Tweets'][rt]))\n",
    "print(\"Number of retweets: {}\".format(rt_max))\n",
    "print(\"{} characters.\\n\".format(data['len'][rt]))"
   ]
  },
  {
   "cell_type": "code",
   "execution_count": 30,
   "metadata": {},
   "outputs": [],
   "source": [
    "# We create time series for data:\n",
    "\n",
    "tlen = pd.Series(data=data['len'].values, index=data['Date'])\n",
    "tfav = pd.Series(data=data['Likes'].values, index=data['Date'])\n",
    "tret = pd.Series(data=data['RTs'].values, index=data['Date'])"
   ]
  },
  {
   "cell_type": "code",
   "execution_count": 31,
   "metadata": {},
   "outputs": [
    {
     "data": {
      "image/png": "[encoded data removed]",
      "text/plain": [
       "<Figure size 1152x288 with 1 Axes>"
      ]
     },
     "metadata": {
      "needs_background": "light"
     },
     "output_type": "display_data"
    }
   ],
   "source": [
    "# Lenghts along time:\n",
    "tlen.plot(figsize=(16,4), color='r');"
   ]
  },
  {
   "cell_type": "code",
   "execution_count": 32,
   "metadata": {},
   "outputs": [
    {
     "data": {
      "image/png": "[encoded data removed]",
      "text/plain": [
       "<Figure size 1152x288 with 1 Axes>"
      ]
     },
     "metadata": {
      "needs_background": "light"
     },
     "output_type": "display_data"
    }
   ],
   "source": [
    "# Likes vs retweets visualization:\n",
    "tfav.plot(figsize=(16,4), label=\"Likes\", legend=True)\n",
    "tret.plot(figsize=(16,4), label=\"Retweets\", legend=True);"
   ]
  },
  {
   "cell_type": "code",
   "execution_count": 33,
   "metadata": {},
   "outputs": [
    {
     "name": "stdout",
     "output_type": "stream",
     "text": [
      "Creation of content sources:\n",
      "* Sprinklr\n",
      "* Twitter for iPhone\n",
      "* Twitter Web Client\n"
     ]
    }
   ],
   "source": [
    "# We obtain all possible sources:\n",
    "sources = []\n",
    "for source in data['Source']:\n",
    "    if source not in sources:\n",
    "        sources.append(source)\n",
    "\n",
    "# We print sources list:\n",
    "print(\"Creation of content sources:\")\n",
    "for source in sources:\n",
    "    print(\"* {}\".format(source))"
   ]
  },
  {
   "cell_type": "code",
   "execution_count": 34,
   "metadata": {},
   "outputs": [
    {
     "data": {
      "image/png": "[encoded data removed]",
      "text/plain": [
       "<Figure size 432x432 with 1 Axes>"
      ]
     },
     "metadata": {},
     "output_type": "display_data"
    }
   ],
   "source": [
    "# We create a numpy vector mapped to labels:\n",
    "percent = np.zeros(len(sources))\n",
    "\n",
    "for source in data['Source']:\n",
    "    for index in range(len(sources)):\n",
    "        if source == sources[index]:\n",
    "            percent[index] += 1\n",
    "            pass\n",
    "\n",
    "percent /= 100\n",
    "\n",
    "# Pie chart:\n",
    "pie_chart = pd.Series(percent, index=sources, name='Sources')\n",
    "pie_chart.plot.pie(fontsize=11, autopct='%.2f', figsize=(6, 6));"
   ]
  },
  {
   "cell_type": "code",
   "execution_count": 35,
   "metadata": {},
   "outputs": [],
   "source": [
    "from textblob import TextBlob\n",
    "import re\n",
    "\n",
    "def clean_tweet(tweet):\n",
    "    '''\n",
    "    Utility function to clean the text in a tweet by removing \n",
    "    links and special characters using regex.\n",
    "    '''\n",
    "    return ' '.join(re.sub(\"(@[A-Za-z0-9]+)|([^0-9A-Za-z \\t])|(\\w+:\\/\\/\\S+)\", \" \", tweet).split())\n",
    "\n",
    "def analize_sentiment(tweet):\n",
    "    '''\n",
    "    Utility function to classify the polarity of a tweet\n",
    "    using textblob.\n",
    "    '''\n",
    "    analysis = TextBlob(clean_tweet(tweet))\n",
    "    if analysis.sentiment.polarity > 0:\n",
    "        return 1\n",
    "    elif analysis.sentiment.polarity == 0:\n",
    "        return 0\n",
    "    else:\n",
    "        return -1"
   ]
  },
  {
   "cell_type": "code",
   "execution_count": 36,
   "metadata": {},
   "outputs": [
    {
     "data": {
      "text/html": [
       "<div>\n",
       "<style scoped>\n",
       "    .dataframe tbody tr th:only-of-type {\n",
       "        vertical-align: middle;\n",
       "    }\n",
       "\n",
       "    .dataframe tbody tr th {\n",
       "        vertical-align: top;\n",
       "    }\n",
       "\n",
       "    .dataframe thead th {\n",
       "        text-align: right;\n",
       "    }\n",
       "</style>\n",
       "<table border=\"1\" class=\"dataframe\">\n",
       "  <thead>\n",
       "    <tr style=\"text-align: right;\">\n",
       "      <th></th>\n",
       "      <th>Tweets</th>\n",
       "      <th>len</th>\n",
       "      <th>ID</th>\n",
       "      <th>Date</th>\n",
       "      <th>Source</th>\n",
       "      <th>Likes</th>\n",
       "      <th>RTs</th>\n",
       "      <th>SA</th>\n",
       "    </tr>\n",
       "  </thead>\n",
       "  <tbody>\n",
       "    <tr>\n",
       "      <th>0</th>\n",
       "      <td>RT @LOrealUSA: #DidYouKnow that women account ...</td>\n",
       "      <td>139</td>\n",
       "      <td>1108263115051945985</td>\n",
       "      <td>2019-03-20 07:04:51</td>\n",
       "      <td>Sprinklr</td>\n",
       "      <td>0</td>\n",
       "      <td>5</td>\n",
       "      <td>1</td>\n",
       "    </tr>\n",
       "    <tr>\n",
       "      <th>1</th>\n",
       "      <td>RT @LOrealUSA: After a life-long career with t...</td>\n",
       "      <td>140</td>\n",
       "      <td>1108059715135852546</td>\n",
       "      <td>2019-03-19 17:36:37</td>\n",
       "      <td>Sprinklr</td>\n",
       "      <td>0</td>\n",
       "      <td>2</td>\n",
       "      <td>1</td>\n",
       "    </tr>\n",
       "    <tr>\n",
       "      <th>2</th>\n",
       "      <td>Discover 🔎 the immersive tunnel of the #exhibi...</td>\n",
       "      <td>140</td>\n",
       "      <td>1107973018108788736</td>\n",
       "      <td>2019-03-19 11:52:07</td>\n",
       "      <td>Sprinklr</td>\n",
       "      <td>16</td>\n",
       "      <td>6</td>\n",
       "      <td>1</td>\n",
       "    </tr>\n",
       "    <tr>\n",
       "      <th>3</th>\n",
       "      <td>RT @UNESCO: Congratulations to this year’s win...</td>\n",
       "      <td>139</td>\n",
       "      <td>1106902882295709697</td>\n",
       "      <td>2019-03-16 12:59:47</td>\n",
       "      <td>Sprinklr</td>\n",
       "      <td>0</td>\n",
       "      <td>56</td>\n",
       "      <td>0</td>\n",
       "    </tr>\n",
       "    <tr>\n",
       "      <th>4</th>\n",
       "      <td>RT @AudreyPulvar: Bravo à @AlexandraPalt et à ...</td>\n",
       "      <td>140</td>\n",
       "      <td>1106842539980713984</td>\n",
       "      <td>2019-03-16 09:00:00</td>\n",
       "      <td>Sprinklr</td>\n",
       "      <td>0</td>\n",
       "      <td>6</td>\n",
       "      <td>0</td>\n",
       "    </tr>\n",
       "    <tr>\n",
       "      <th>5</th>\n",
       "      <td>Congratulations to @ilyapharma, the winner of ...</td>\n",
       "      <td>139</td>\n",
       "      <td>1106617566708097024</td>\n",
       "      <td>2019-03-15 18:06:02</td>\n",
       "      <td>Twitter for iPhone</td>\n",
       "      <td>21</td>\n",
       "      <td>7</td>\n",
       "      <td>0</td>\n",
       "    </tr>\n",
       "    <tr>\n",
       "      <th>6</th>\n",
       "      <td>La quête de la #beauté est le moteur d'une cro...</td>\n",
       "      <td>140</td>\n",
       "      <td>1106590549098811392</td>\n",
       "      <td>2019-03-15 16:18:41</td>\n",
       "      <td>Sprinklr</td>\n",
       "      <td>3</td>\n",
       "      <td>1</td>\n",
       "      <td>0</td>\n",
       "    </tr>\n",
       "    <tr>\n",
       "      <th>7</th>\n",
       "      <td>The quest for #beauty drives a steady growth f...</td>\n",
       "      <td>140</td>\n",
       "      <td>1106590307070763009</td>\n",
       "      <td>2019-03-15 16:17:43</td>\n",
       "      <td>Sprinklr</td>\n",
       "      <td>1</td>\n",
       "      <td>1</td>\n",
       "      <td>1</td>\n",
       "    </tr>\n",
       "    <tr>\n",
       "      <th>8</th>\n",
       "      <td>Immergez-vous dans l'univers de la #BeautyTech...</td>\n",
       "      <td>140</td>\n",
       "      <td>1106589802592378882</td>\n",
       "      <td>2019-03-15 16:15:43</td>\n",
       "      <td>Sprinklr</td>\n",
       "      <td>6</td>\n",
       "      <td>1</td>\n",
       "      <td>0</td>\n",
       "    </tr>\n",
       "    <tr>\n",
       "      <th>9</th>\n",
       "      <td>Step onboard the new #BeautyTech world with ou...</td>\n",
       "      <td>137</td>\n",
       "      <td>1106589529400586240</td>\n",
       "      <td>2019-03-15 16:14:37</td>\n",
       "      <td>Sprinklr</td>\n",
       "      <td>3</td>\n",
       "      <td>0</td>\n",
       "      <td>1</td>\n",
       "    </tr>\n",
       "  </tbody>\n",
       "</table>\n",
       "</div>"
      ],
      "text/plain": [
       "                                              Tweets  len  \\\n",
       "0  RT @LOrealUSA: #DidYouKnow that women account ...  139   \n",
       "1  RT @LOrealUSA: After a life-long career with t...  140   \n",
       "2  Discover 🔎 the immersive tunnel of the #exhibi...  140   \n",
       "3  RT @UNESCO: Congratulations to this year’s win...  139   \n",
       "4  RT @AudreyPulvar: Bravo à @AlexandraPalt et à ...  140   \n",
       "5  Congratulations to @ilyapharma, the winner of ...  139   \n",
       "6  La quête de la #beauté est le moteur d'une cro...  140   \n",
       "7  The quest for #beauty drives a steady growth f...  140   \n",
       "8  Immergez-vous dans l'univers de la #BeautyTech...  140   \n",
       "9  Step onboard the new #BeautyTech world with ou...  137   \n",
       "\n",
       "                    ID                Date              Source  Likes  RTs  SA  \n",
       "0  1108263115051945985 2019-03-20 07:04:51            Sprinklr      0    5   1  \n",
       "1  1108059715135852546 2019-03-19 17:36:37            Sprinklr      0    2   1  \n",
       "2  1107973018108788736 2019-03-19 11:52:07            Sprinklr     16    6   1  \n",
       "3  1106902882295709697 2019-03-16 12:59:47            Sprinklr      0   56   0  \n",
       "4  1106842539980713984 2019-03-16 09:00:00            Sprinklr      0    6   0  \n",
       "5  1106617566708097024 2019-03-15 18:06:02  Twitter for iPhone     21    7   0  \n",
       "6  1106590549098811392 2019-03-15 16:18:41            Sprinklr      3    1   0  \n",
       "7  1106590307070763009 2019-03-15 16:17:43            Sprinklr      1    1   1  \n",
       "8  1106589802592378882 2019-03-15 16:15:43            Sprinklr      6    1   0  \n",
       "9  1106589529400586240 2019-03-15 16:14:37            Sprinklr      3    0   1  "
      ]
     },
     "metadata": {},
     "output_type": "display_data"
    }
   ],
   "source": [
    "# We create a column with the result of the analysis:\n",
    "data['SA'] = np.array([ analize_sentiment(tweet) for tweet in data['Tweets'] ])\n",
    "\n",
    "# We display the updated dataframe with the new column:\n",
    "display(data.head(10))"
   ]
  },
  {
   "cell_type": "code",
   "execution_count": 37,
   "metadata": {},
   "outputs": [],
   "source": [
    "# We construct lists with classified tweets:\n",
    "\n",
    "pos_tweets = [ tweet for index, tweet in enumerate(data['Tweets']) if data['SA'][index] > 0]\n",
    "neu_tweets = [ tweet for index, tweet in enumerate(data['Tweets']) if data['SA'][index] == 0]\n",
    "neg_tweets = [ tweet for index, tweet in enumerate(data['Tweets']) if data['SA'][index] < 0]"
   ]
  },
  {
   "cell_type": "code",
   "execution_count": 38,
   "metadata": {},
   "outputs": [
    {
     "name": "stdout",
     "output_type": "stream",
     "text": [
      "Percentage of positive tweets: 46.192893401015226%\n",
      "Percentage of neutral tweets: 50.253807106598984%\n",
      "Percentage de negative tweets: 3.553299492385787%\n"
     ]
    }
   ],
   "source": [
    "# We print percentages:\n",
    "\n",
    "print(\"Percentage of positive tweets: {}%\".format(len(pos_tweets)*100/len(data['Tweets'])))\n",
    "print(\"Percentage of neutral tweets: {}%\".format(len(neu_tweets)*100/len(data['Tweets'])))\n",
    "print(\"Percentage de negative tweets: {}%\".format(len(neg_tweets)*100/len(data['Tweets'])))"
   ]
  },
  {
   "cell_type": "code",
   "execution_count": null,
   "metadata": {},
   "outputs": [],
   "source": []
  }
 ],
 "metadata": {
  "kernelspec": {
   "display_name": "Python 3",
   "language": "python",
   "name": "python3"
  },
  "language_info": {
   "codemirror_mode": {
    "name": "ipython",
    "version": 3
   },
   "file_extension": ".py",
   "mimetype": "text/x-python",
   "name": "python",
   "nbconvert_exporter": "python",
   "pygments_lexer": "ipython3",
   "version": "3.7.1"
  }
 },
 "nbformat": 4,
 "nbformat_minor": 2
}
