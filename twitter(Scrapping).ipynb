{
 "cells": [
  {
   "cell_type": "code",
   "execution_count": 1,
   "metadata": {},
   "outputs": [],
   "source": [
    "import requests"
   ]
  },
  {
   "cell_type": "code",
   "execution_count": 2,
   "metadata": {},
   "outputs": [],
   "source": [
    "from bs4 import BeautifulSoup"
   ]
  },
  {
   "cell_type": "code",
   "execution_count": 3,
   "metadata": {},
   "outputs": [],
   "source": [
    "all_tweets = []"
   ]
  },
  {
   "cell_type": "code",
   "execution_count": 4,
   "metadata": {},
   "outputs": [],
   "source": [
    "url='https://twitter.com/TheOnion'"
   ]
  },
  {
   "cell_type": "code",
   "execution_count": 7,
   "metadata": {},
   "outputs": [],
   "source": [
    "data=requests.get(url)"
   ]
  },
  {
   "cell_type": "code",
   "execution_count": 8,
   "metadata": {},
   "outputs": [],
   "source": [
    "html=BeautifulSoup(data.text,'html.parser')"
   ]
  },
  {
   "cell_type": "code",
   "execution_count": 9,
   "metadata": {},
   "outputs": [],
   "source": [
    "timeline=html.select('#timeline li.stream-item')"
   ]
  },
  {
   "cell_type": "code",
   "execution_count": 10,
   "metadata": {},
   "outputs": [],
   "source": [
    "for tweet in timeline:\n",
    "    tweet_id=tweet['data-item-id']\n",
    "    tweet_text=tweet.select('p.tweet-text')[0].get_text()\n",
    "    all_tweets.append({\"id\":tweet_id,\"text\":tweet_text})"
   ]
  },
  {
   "cell_type": "code",
   "execution_count": 11,
   "metadata": {},
   "outputs": [
    {
     "name": "stdout",
     "output_type": "stream",
     "text": [
      "[{'id': '1105857325582204928', 'text': 'Report: Just Go Ahead And Tell Yourself Bribery Is The Only Reason You Didn’t Get Into Columbia https://trib.al/u2qwWZu\\xa0pic.twitter.com/AXdfZHSrAl'}, {'id': '1105848007336124416', 'text': 'Experts Warn There No End In Sight For Venezuela Blackouts https://trib.al/pQuMaH8\\xa0 #WhatDoYouThink?pic.twitter.com/rWnVFOVxpk'}, {'id': '1105838701198888961', 'text': 'FDA To Increase Recommended Dosage Of Acetaminophen For Children Who Can Handle Their Shit https://trib.al/LV0U4Fx\\xa0pic.twitter.com/GuBNaSr5ic'}, {'id': '1105826874008182786', 'text': 'Heaven Prepares For Huge Rush Of College Kids Over Spring Break https://trib.al/UCyJkvY\\xa0pic.twitter.com/NXHgoBhmJc'}, {'id': '1105815034104610817', 'text': 'Glade Introduces New Spring Meadow Fire Extinguisher https://trib.al/h4sC3EB\\xa0pic.twitter.com/pWDVRhshP1'}, {'id': '1105803206028939264', 'text': 'New Evidence Confirms First Human Ancestors Climbed Down From Trees To Retrieve Dropped Snack https://trib.al/qypFjBw\\xa0pic.twitter.com/dflMiimBc0'}, {'id': '1105681413901299712', 'text': 'Everybody Shocked Body Found In Woods Not Justin https://trib.al/0TCXE9x\\xa0pic.twitter.com/jo5npbvR16'}, {'id': '1105670569805168640', 'text': '\"I think it will be good to keep Eli on the bench for a year or two so he can learn the ropes of being an NFL quarterback.\"https://twitter.com/TheOnion/status/1105545504354635777\\xa0…'}, {'id': '1105659760744058880', 'text': 'Study: More Couples Delaying Divorce Until Kids Old Enough To Remember Every Painful Detail https://trib.al/FYWQ9fk\\xa0pic.twitter.com/Xu4daCXQrs'}, {'id': '1105648925015453699', 'text': 'National News Highlightspic.twitter.com/qpPVlp86nY'}, {'id': '1105559092666556418', 'text': 'Incredibly Sad: This Guy Got A New Blender And It Literally Changed His Life http://clckhl.co/1lt2Xxi\\xa0pic.twitter.com/aDqZcdKBdT'}, {'id': '1105627307090292736', 'text': 'To see more unmatched reporting, visit http://theonion.com\\xa0.pic.twitter.com/OZxUpkowsa'}, {'id': '1105612215829303298', 'text': \"Hardee's Introduces Shame Curtains For Customers To Eat Behind https://trib.al/F7wWVfg\\xa0pic.twitter.com/ZWeqLRn8sn\"}, {'id': '1105597484716433409', 'text': 'USC Insists Lori Loughlin’s Daughter Was Admitted Solely Based On Socioeconomic Background https://trib.al/Npe4Qz2\\xa0pic.twitter.com/FtMhQ3zcGu'}, {'id': '1105594850278281217', 'text': 'Alarming U.N. Report Finds World Lost 40 Million Acres Of Personal Space Last Year https://trib.al/yWj1ChH\\xa0pic.twitter.com/GoUlWChGSF'}, {'id': '1105586515143467008', 'text': \"Reaching the milestone while completing the final level of the 'Battlefield V' campaign mode, local man Jacob Dunford also has far more confirmed kills on Nazi troops and has participated in several more significant battles than his grandfather.https://twitter.com/TheOnion/status/1105495690472579072\\xa0…\"}, {'id': '1105578214515187713', 'text': 'China Grounds All 737 Max 8 Planes Following Crash https://trib.al/cGKTjUg\\xa0 #WhatDoYouThink?pic.twitter.com/CQPCMmndks'}, {'id': '1105569905095647232', 'text': '5 Things To Know About ‘Queer Eye’ Season 3pic.twitter.com/z8RdgVyZ4d'}, {'id': '1105544035538796545', 'text': 'Shutting Down The Haters: Bernie Sanders Just Proved He’s Young Enough To Run For President By Hiring A Team Of Bodyguards That Are All 20 Years Older Than Him http://clckhl.co/crU6KTD\\xa0pic.twitter.com/q6GbqFcMJr'}, {'id': '1105553308855529478', 'text': 'Nation’s Flag Nerds Anxiously Watching D.C. Statehood Push https://trib.al/dCZCFLH\\xa0pic.twitter.com/axDo4Xt1iZ'}]\n"
     ]
    }
   ],
   "source": [
    "print(all_tweets)"
   ]
  },
  {
   "cell_type": "code",
   "execution_count": null,
   "metadata": {},
   "outputs": [],
   "source": []
  }
 ],
 "metadata": {
  "kernelspec": {
   "display_name": "Python 3",
   "language": "python",
   "name": "python3"
  },
  "language_info": {
   "codemirror_mode": {
    "name": "ipython",
    "version": 3
   },
   "file_extension": ".py",
   "mimetype": "text/x-python",
   "name": "python",
   "nbconvert_exporter": "python",
   "pygments_lexer": "ipython3",
   "version": "3.7.0"
  }
 },
 "nbformat": 4,
 "nbformat_minor": 2
}
